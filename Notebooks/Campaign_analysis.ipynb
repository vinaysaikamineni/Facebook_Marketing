{
 "cells": [
  {
   "cell_type": "code",
   "execution_count": null,
   "metadata": {},
   "outputs": [
    {
     "name": "stdout",
     "output_type": "stream",
     "text": [
      "(1143, 15)\n",
      "Index(['ad_id', 'reporting_start', 'reporting_end', 'campaign_id',\n",
      "       'fb_campaign_id', 'age', 'gender', 'interest1', 'interest2',\n",
      "       'interest3', 'impressions', 'clicks', 'spent', 'total_conversion',\n",
      "       'approved_conversion'],\n",
      "      dtype='object')\n",
      "    ad_id reporting_start reporting_end  campaign_id  fb_campaign_id    age  \\\n",
      "0  708746      17/08/2017    17/08/2017        916.0        103916.0  30-34   \n",
      "1  708749      17/08/2017    17/08/2017        916.0        103917.0  30-34   \n",
      "2  708771      17/08/2017    17/08/2017        916.0        103920.0  30-34   \n",
      "3  708815      30/08/2017    30/08/2017        916.0        103928.0  30-34   \n",
      "4  708818      17/08/2017    17/08/2017        916.0        103928.0  30-34   \n",
      "\n",
      "  gender  interest1  interest2  interest3  impressions  clicks  spent  \\\n",
      "0      M         15         17         17         7350       1   1.43   \n",
      "1      M         16         19         21        17861       2   1.82   \n",
      "2      M         20         25         22          693       0   0.00   \n",
      "3      M         28         32         32         4259       1   1.25   \n",
      "4      M         28         33         32         4133       1   1.29   \n",
      "\n",
      "   total_conversion  approved_conversion  \n",
      "0                 2                    1  \n",
      "1                 2                    0  \n",
      "2                 1                    0  \n",
      "3                 1                    0  \n",
      "4                 1                    1  \n",
      "<class 'pandas.core.frame.DataFrame'>\n",
      "RangeIndex: 1143 entries, 0 to 1142\n",
      "Data columns (total 15 columns):\n",
      " #   Column               Non-Null Count  Dtype  \n",
      "---  ------               --------------  -----  \n",
      " 0   ad_id                1143 non-null   int64  \n",
      " 1   reporting_start      1143 non-null   object \n",
      " 2   reporting_end        1143 non-null   object \n",
      " 3   campaign_id          761 non-null    float64\n",
      " 4   fb_campaign_id       761 non-null    float64\n",
      " 5   age                  1143 non-null   object \n",
      " 6   gender               1143 non-null   object \n",
      " 7   interest1            1143 non-null   int64  \n",
      " 8   interest2            1143 non-null   int64  \n",
      " 9   interest3            1143 non-null   int64  \n",
      " 10  impressions          1143 non-null   int64  \n",
      " 11  clicks               1143 non-null   int64  \n",
      " 12  spent                1143 non-null   float64\n",
      " 13  total_conversion     1143 non-null   int64  \n",
      " 14  approved_conversion  1143 non-null   int64  \n",
      "dtypes: float64(3), int64(8), object(4)\n",
      "memory usage: 134.1+ KB\n",
      "None\n"
     ]
    }
   ],
   "source": [
    "import pandas as pd\n",
    "\n",
    "# Load the dataset\n",
    "df = pd.read_csv(r'C:\\Users\\daysi\\OneDrive\\Desktop\\Facebook_Marketing\\Data\\Cleaned_data.csv')\n",
    "\n",
    "# Quick overview\n",
    "print(df.shape)\n",
    "print(df.columns)\n",
    "print(df.head())\n",
    "\n"
   ]
  },
  {
   "cell_type": "code",
   "execution_count": 13,
   "metadata": {},
   "outputs": [
    {
     "name": "stdout",
     "output_type": "stream",
     "text": [
      "<class 'pandas.core.frame.DataFrame'>\n",
      "RangeIndex: 1143 entries, 0 to 1142\n",
      "Data columns (total 18 columns):\n",
      " #   Column               Non-Null Count  Dtype         \n",
      "---  ------               --------------  -----         \n",
      " 0   ad_id                1143 non-null   int64         \n",
      " 1   reporting_start      1143 non-null   datetime64[ns]\n",
      " 2   reporting_end        1143 non-null   datetime64[ns]\n",
      " 3   campaign_id          1143 non-null   float64       \n",
      " 4   fb_campaign_id       1143 non-null   float64       \n",
      " 5   age                  1143 non-null   object        \n",
      " 6   gender               1143 non-null   object        \n",
      " 7   interest1            1143 non-null   int64         \n",
      " 8   interest2            1143 non-null   int64         \n",
      " 9   interest3            1143 non-null   int64         \n",
      " 10  impressions          1143 non-null   int64         \n",
      " 11  clicks               1143 non-null   int64         \n",
      " 12  spent                1143 non-null   float64       \n",
      " 13  total_conversion     1143 non-null   int64         \n",
      " 14  approved_conversion  1143 non-null   int64         \n",
      " 15  CTR                  1143 non-null   float64       \n",
      " 16  CPC                  1143 non-null   float64       \n",
      " 17  CPA                  1143 non-null   float64       \n",
      "dtypes: datetime64[ns](2), float64(6), int64(8), object(2)\n",
      "memory usage: 160.9+ KB\n"
     ]
    }
   ],
   "source": [
    "df.info()"
   ]
  },
  {
   "cell_type": "code",
   "execution_count": 14,
   "metadata": {},
   "outputs": [],
   "source": [
    "# Convert date columns\n",
    "df['reporting_start'] = pd.to_datetime(df['reporting_start'])\n",
    "df['reporting_end'] = pd.to_datetime(df['reporting_end'])\n",
    "\n",
    "# Fill missing values\n",
    "df.fillna(0, inplace=True)\n",
    "\n",
    "# Create KPIs\n",
    "df['CTR'] = df['clicks'] / df['impressions']\n",
    "df['CPC'] = df['spent'] / df['clicks']\n",
    "df['CPA'] = df['spent'] / df['approved_conversion']  # or total_conversions\n",
    "\n",
    "# Replace infinities and NaNs with 0\n",
    "df = df.replace([float('inf'), -float('inf')], 0)\n",
    "df = df.fillna(0)\n"
   ]
  },
  {
   "cell_type": "code",
   "execution_count": 8,
   "metadata": {},
   "outputs": [],
   "source": [
    "\n"
   ]
  },
  {
   "cell_type": "code",
   "execution_count": 15,
   "metadata": {},
   "outputs": [
    {
     "name": "stdout",
     "output_type": "stream",
     "text": [
      "              spent  approved_conversion        CPA\n",
      "age                                                \n",
      "30-34  15252.399986                  494  30.875304\n",
      "35-39  11112.429994                  207  53.683237\n",
      "40-44  11589.729981                  170  68.174882\n",
      "45-49  20750.669997                  208  99.762837\n"
     ]
    }
   ],
   "source": [
    "age_summary = df.groupby('age')[['spent', 'approved_conversion']].sum()\n",
    "age_summary['CPA'] = age_summary['spent'] / age_summary['approved_conversion']\n",
    "print(age_summary.sort_values(by='CPA'))"
   ]
  },
  {
   "cell_type": "code",
   "execution_count": 16,
   "metadata": {},
   "outputs": [
    {
     "name": "stdout",
     "output_type": "stream",
     "text": [
      "        clicks  impressions       CTR\n",
      "gender                               \n",
      "F        23878    114862847  0.000208\n",
      "M        14287     98571981  0.000145\n"
     ]
    }
   ],
   "source": [
    "# Keep only valid gender rows\n",
    "df = df[df['gender'].isin(['M', 'F'])]\n",
    "\n",
    "# Re-run the groupby\n",
    "gender_summary = df.groupby('gender')[['clicks', 'impressions']].sum()\n",
    "gender_summary['CTR'] = gender_summary['clicks'] / gender_summary['impressions']\n",
    "print(gender_summary)\n"
   ]
  },
  {
   "cell_type": "code",
   "execution_count": 17,
   "metadata": {},
   "outputs": [
    {
     "name": "stdout",
     "output_type": "stream",
     "text": [
      "                    spent  approved_conversion        CPA\n",
      "campaign_id                                              \n",
      "916.0          149.710001                   24   6.237917\n",
      "936.0         2893.369999                  183  15.810765\n",
      "1178.0       16577.159998                  378  43.854921\n",
      "0.0          39084.989961                  494  79.119413\n"
     ]
    }
   ],
   "source": [
    "campaign_summary = df.groupby('campaign_id')[['spent', 'approved_conversion']].sum()\n",
    "campaign_summary['CPA'] = campaign_summary['spent'] / campaign_summary['approved_conversion']\n",
    "campaign_summary = campaign_summary.sort_values('CPA')\n",
    "print(campaign_summary.head())\n"
   ]
  },
  {
   "cell_type": "code",
   "execution_count": 18,
   "metadata": {},
   "outputs": [
    {
     "data": {
      "image/png": "[encoded data removed]",
      "text/plain": [
       "<Figure size 800x500 with 1 Axes>"
      ]
     },
     "metadata": {},
     "output_type": "display_data"
    }
   ],
   "source": [
    "import matplotlib.pyplot as plt\n",
    "\n",
    "# Filter for clean age groups\n",
    "valid_ages = ['30-34', '35-39', '40-44', '45-49']\n",
    "filtered_df = df[df['age'].isin(valid_ages)]\n",
    "\n",
    "# Re-group by valid age only\n",
    "age_summary = filtered_df.groupby('age')[['spent', 'approved_conversion']].sum()\n",
    "age_summary['CPA'] = age_summary['spent'] / age_summary['approved_conversion']\n",
    "\n",
    "# Plot clean CPA chart\n",
    "age_summary['CPA'].plot(kind='bar', title='CPA by Age Group', ylabel='Cost per Approved Conversion', xlabel='Age Group', figsize=(8, 5))\n",
    "plt.tight_layout()\n",
    "plt.show()\n"
   ]
  }
 ],
 "metadata": {
  "kernelspec": {
   "display_name": "Python 3",
   "language": "python",
   "name": "python3"
  },
  "language_info": {
   "codemirror_mode": {
    "name": "ipython",
    "version": 3
   },
   "file_extension": ".py",
   "mimetype": "text/x-python",
   "name": "python",
   "nbconvert_exporter": "python",
   "pygments_lexer": "ipython3",
   "version": "3.12.6"
  }
 },
 "nbformat": 4,
 "nbformat_minor": 2
}
